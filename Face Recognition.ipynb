{
  "metadata": {
    "language_info": {
      "codemirror_mode": {
        "name": "python",
        "version": 3
      },
      "file_extension": ".py",
      "mimetype": "text/x-python",
      "name": "python",
      "nbconvert_exporter": "python",
      "pygments_lexer": "ipython3",
      "version": "3.8"
    },
    "kernelspec": {
      "name": "python",
      "display_name": "Python (Pyodide)",
      "language": "python"
    }
  },
  "nbformat_minor": 4,
  "nbformat": 4,
  "cells": [
    {
      "cell_type": "markdown",
      "source": "# **By: Caleb Choo**\n\n\n# **Face Detection Using OpenCV**\nA simple face detection model using OpenCV\n",
      "metadata": {}
    },
    {
      "cell_type": "markdown",
      "source": "### **Importing Libraries**\n",
      "metadata": {}
    },
    {
      "cell_type": "code",
      "source": "import cv2\nimport numpy as np\nimport matplotlib.pyplot as plt \n%matplotlib inline ",
      "metadata": {
        "trusted": true
      },
      "execution_count": null,
      "outputs": []
    },
    {
      "cell_type": "markdown",
      "source": "### **Loading Image**\n",
      "metadata": {}
    },
    {
      "cell_type": "code",
      "source": "img = cv2.imread('elon_musk.jpg')\n\n# converting to grayscale\nimg_gray = cv2.cvtColor(img, cv2.COLOR_BGR2GRAY)\n\nplt.imshow(img_gray, cmap = 'gray')",
      "metadata": {
        "trusted": true
      },
      "execution_count": null,
      "outputs": []
    },
    {
      "cell_type": "markdown",
      "source": "### **Converting Image To RGB**\n",
      "metadata": {}
    },
    {
      "cell_type": "code",
      "source": "def conver_to_RGB(img):\n    return cv2.cvtColor(img, cv2.COLOR_BGR2RGB)\n",
      "metadata": {
        "trusted": true
      },
      "execution_count": null,
      "outputs": []
    },
    {
      "cell_type": "markdown",
      "source": "### **Haar Cascade Files**",
      "metadata": {}
    },
    {
      "cell_type": "code",
      "source": "haar_cascade_face = cv2.CascadeClassifier('haarcascade_frontalface_alt2.xml')\n",
      "metadata": {
        "trusted": true
      },
      "execution_count": null,
      "outputs": []
    },
    {
      "cell_type": "markdown",
      "source": "### **Face Detection**",
      "metadata": {}
    },
    {
      "cell_type": "code",
      "source": "faces_rects = haar_cascade_face.detectMultiScale(test_image_gray, scaleFactor = 1.2, minNeighbors = 5);\n\n# Let us print the no. of faces found\nprint('Faces found: ', len(faces_rects))\n",
      "metadata": {
        "trusted": true
      },
      "execution_count": null,
      "outputs": []
    },
    {
      "cell_type": "code",
      "source": "",
      "metadata": {},
      "execution_count": null,
      "outputs": []
    }
  ]
}